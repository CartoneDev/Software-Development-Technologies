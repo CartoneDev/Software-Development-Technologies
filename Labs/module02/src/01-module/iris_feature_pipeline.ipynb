{
  "cells": [
    {
      "cell_type": "markdown",
      "metadata": {
        "id": "d2kLrOh-bpGy"
      },
      "source": [
        "# Iris Flower - Feature Pipeline\n",
        "\n",
        "In this notebook we will,\n",
        "\n",
        "1. Run in either \"Backfill\" or \"Normal\" operation.\n",
        "2. IF *BACKFILL==True*, we will load our DataFrame with data from the iris.csv file\n",
        "\n",
        "   ELSE *BACKFILL==False*, we will load our DataFrame with one synthetic Iris Flower sample\n",
        "3. Write our DataFrame to a Feature Group"
      ]
    },
    {
      "cell_type": "code",
      "execution_count": 1,
      "metadata": {
        "id": "xX3jTeaewkwp"
      },
      "outputs": [],
      "source": [
        "%%capture\n",
        "\n",
        "!pip install -U hopsworks --quiet"
      ]
    },
    {
      "cell_type": "markdown",
      "metadata": {
        "id": "Q8WB1-drwkws"
      },
      "source": [
        "Set **BACKFILL=True** if you want to create features from the iris.csv file containing historical data."
      ]
    },
    {
      "cell_type": "code",
      "execution_count": 9,
      "metadata": {
        "id": "A8pz1Dxywkwt"
      },
      "outputs": [],
      "source": [
        "import random\n",
        "import pandas as pd\n",
        "import hopsworks\n",
        "\n",
        "BACKFILL= True"
      ]
    },
    {
      "cell_type": "markdown",
      "metadata": {
        "id": "AB4-Jwvfwkwu"
      },
      "source": [
        "### Synthetic Data Functions\n",
        "\n",
        "These synthetic data functions can be used to create a DataFrame containing a single Iris Flower sample."
      ]
    },
    {
      "cell_type": "code",
      "execution_count": 10,
      "metadata": {
        "id": "nRmFM7vcbpHA"
      },
      "outputs": [],
      "source": [
        "def generate_flower(name, sepal_len_max, sepal_len_min, sepal_width_max, sepal_width_min,\n",
        "                    petal_len_max, petal_len_min, petal_width_max, petal_width_min):\n",
        "    \"\"\"\n",
        "    Returns a single iris flower as a single row in a DataFrame\n",
        "    \"\"\"\n",
        "    df = pd.DataFrame({ \"sepal_length\": [random.uniform(sepal_len_max, sepal_len_min)],\n",
        "                       \"sepal_width\": [random.uniform(sepal_width_max, sepal_width_min)],\n",
        "                       \"petal_length\": [random.uniform(petal_len_max, petal_len_min)],\n",
        "                       \"petal_width\": [random.uniform(petal_width_max, petal_width_min)]\n",
        "                      })\n",
        "    df['variety'] = name\n",
        "    return df\n",
        "\n",
        "\n",
        "def get_random_iris_flower():\n",
        "    \"\"\"\n",
        "    Returns a DataFrame containing one random iris flower\n",
        "    \"\"\"\n",
        "    virginica_df = generate_flower(\"Virginica\", 8, 5.5, 3.8, 2.2, 7, 4.5, 2.5, 1.4)\n",
        "    versicolor_df = generate_flower(\"Versicolor\", 7.5, 4.5, 3.5, 2.1, 3.1, 5.5, 1.8, 1.0)\n",
        "    setosa_df =  generate_flower(\"Setosa\", 6, 4.5, 4.5, 2.3, 1.2, 2, 0.7, 0.3)\n",
        "\n",
        "    # randomly pick one of these 3 and write it to the featurestore\n",
        "    pick_random = random.uniform(0,3)\n",
        "    if pick_random >= 2:\n",
        "        iris_df = virginica_df\n",
        "    elif pick_random >= 1:\n",
        "        iris_df = versicolor_df\n",
        "    else:\n",
        "        iris_df = setosa_df\n",
        "\n",
        "    return iris_df"
      ]
    },
    {
      "cell_type": "markdown",
      "metadata": {
        "id": "5eb1q2Zuwkww"
      },
      "source": [
        "## Backfill or create new synthetic input data\n",
        "\n",
        "You can run this pipeline in either *backfill* or *synthetic-data* mode."
      ]
    },
    {
      "cell_type": "code",
      "execution_count": 11,
      "metadata": {
        "colab": {
          "base_uri": "https://localhost:8080/",
          "height": 81
        },
        "id": "mflVflqvwkww",
        "outputId": "527b242c-511d-4566-cedc-f196fd37dcf3"
      },
      "outputs": [
        {
          "output_type": "execute_result",
          "data": {
            "text/plain": [
              "   sepal_length  sepal_width  petal_length  petal_width variety\n",
              "0      5.955304     4.018996      1.604284     0.689386  Setosa"
            ],
            "text/html": [
              "\n",
              "  <div id=\"df-82aec67c-e0bc-40a4-b432-81e5cfddfcfa\" class=\"colab-df-container\">\n",
              "    <div>\n",
              "<style scoped>\n",
              "    .dataframe tbody tr th:only-of-type {\n",
              "        vertical-align: middle;\n",
              "    }\n",
              "\n",
              "    .dataframe tbody tr th {\n",
              "        vertical-align: top;\n",
              "    }\n",
              "\n",
              "    .dataframe thead th {\n",
              "        text-align: right;\n",
              "    }\n",
              "</style>\n",
              "<table border=\"1\" class=\"dataframe\">\n",
              "  <thead>\n",
              "    <tr style=\"text-align: right;\">\n",
              "      <th></th>\n",
              "      <th>sepal_length</th>\n",
              "      <th>sepal_width</th>\n",
              "      <th>petal_length</th>\n",
              "      <th>petal_width</th>\n",
              "      <th>variety</th>\n",
              "    </tr>\n",
              "  </thead>\n",
              "  <tbody>\n",
              "    <tr>\n",
              "      <th>0</th>\n",
              "      <td>5.955304</td>\n",
              "      <td>4.018996</td>\n",
              "      <td>1.604284</td>\n",
              "      <td>0.689386</td>\n",
              "      <td>Setosa</td>\n",
              "    </tr>\n",
              "  </tbody>\n",
              "</table>\n",
              "</div>\n",
              "    <div class=\"colab-df-buttons\">\n",
              "\n",
              "  <div class=\"colab-df-container\">\n",
              "    <button class=\"colab-df-convert\" onclick=\"convertToInteractive('df-82aec67c-e0bc-40a4-b432-81e5cfddfcfa')\"\n",
              "            title=\"Convert this dataframe to an interactive table.\"\n",
              "            style=\"display:none;\">\n",
              "\n",
              "  <svg xmlns=\"http://www.w3.org/2000/svg\" height=\"24px\" viewBox=\"0 -960 960 960\">\n",
              "    <path d=\"M120-120v-720h720v720H120Zm60-500h600v-160H180v160Zm220 220h160v-160H400v160Zm0 220h160v-160H400v160ZM180-400h160v-160H180v160Zm440 0h160v-160H620v160ZM180-180h160v-160H180v160Zm440 0h160v-160H620v160Z\"/>\n",
              "  </svg>\n",
              "    </button>\n",
              "\n",
              "  <style>\n",
              "    .colab-df-container {\n",
              "      display:flex;\n",
              "      gap: 12px;\n",
              "    }\n",
              "\n",
              "    .colab-df-convert {\n",
              "      background-color: #E8F0FE;\n",
              "      border: none;\n",
              "      border-radius: 50%;\n",
              "      cursor: pointer;\n",
              "      display: none;\n",
              "      fill: #1967D2;\n",
              "      height: 32px;\n",
              "      padding: 0 0 0 0;\n",
              "      width: 32px;\n",
              "    }\n",
              "\n",
              "    .colab-df-convert:hover {\n",
              "      background-color: #E2EBFA;\n",
              "      box-shadow: 0px 1px 2px rgba(60, 64, 67, 0.3), 0px 1px 3px 1px rgba(60, 64, 67, 0.15);\n",
              "      fill: #174EA6;\n",
              "    }\n",
              "\n",
              "    .colab-df-buttons div {\n",
              "      margin-bottom: 4px;\n",
              "    }\n",
              "\n",
              "    [theme=dark] .colab-df-convert {\n",
              "      background-color: #3B4455;\n",
              "      fill: #D2E3FC;\n",
              "    }\n",
              "\n",
              "    [theme=dark] .colab-df-convert:hover {\n",
              "      background-color: #434B5C;\n",
              "      box-shadow: 0px 1px 3px 1px rgba(0, 0, 0, 0.15);\n",
              "      filter: drop-shadow(0px 1px 2px rgba(0, 0, 0, 0.3));\n",
              "      fill: #FFFFFF;\n",
              "    }\n",
              "  </style>\n",
              "\n",
              "    <script>\n",
              "      const buttonEl =\n",
              "        document.querySelector('#df-82aec67c-e0bc-40a4-b432-81e5cfddfcfa button.colab-df-convert');\n",
              "      buttonEl.style.display =\n",
              "        google.colab.kernel.accessAllowed ? 'block' : 'none';\n",
              "\n",
              "      async function convertToInteractive(key) {\n",
              "        const element = document.querySelector('#df-82aec67c-e0bc-40a4-b432-81e5cfddfcfa');\n",
              "        const dataTable =\n",
              "          await google.colab.kernel.invokeFunction('convertToInteractive',\n",
              "                                                    [key], {});\n",
              "        if (!dataTable) return;\n",
              "\n",
              "        const docLinkHtml = 'Like what you see? Visit the ' +\n",
              "          '<a target=\"_blank\" href=https://colab.research.google.com/notebooks/data_table.ipynb>data table notebook</a>'\n",
              "          + ' to learn more about interactive tables.';\n",
              "        element.innerHTML = '';\n",
              "        dataTable['output_type'] = 'display_data';\n",
              "        await google.colab.output.renderOutput(dataTable, element);\n",
              "        const docLink = document.createElement('div');\n",
              "        docLink.innerHTML = docLinkHtml;\n",
              "        element.appendChild(docLink);\n",
              "      }\n",
              "    </script>\n",
              "  </div>\n",
              "\n",
              "    </div>\n",
              "  </div>\n"
            ],
            "application/vnd.google.colaboratory.intrinsic+json": {
              "type": "dataframe",
              "variable_name": "iris_df",
              "summary": "{\n  \"name\": \"iris_df\",\n  \"rows\": 1,\n  \"fields\": [\n    {\n      \"column\": \"sepal_length\",\n      \"properties\": {\n        \"dtype\": \"number\",\n        \"std\": null,\n        \"min\": 5.955304170842894,\n        \"max\": 5.955304170842894,\n        \"num_unique_values\": 1,\n        \"samples\": [\n          5.955304170842894\n        ],\n        \"semantic_type\": \"\",\n        \"description\": \"\"\n      }\n    },\n    {\n      \"column\": \"sepal_width\",\n      \"properties\": {\n        \"dtype\": \"number\",\n        \"std\": null,\n        \"min\": 4.018996455432073,\n        \"max\": 4.018996455432073,\n        \"num_unique_values\": 1,\n        \"samples\": [\n          4.018996455432073\n        ],\n        \"semantic_type\": \"\",\n        \"description\": \"\"\n      }\n    },\n    {\n      \"column\": \"petal_length\",\n      \"properties\": {\n        \"dtype\": \"number\",\n        \"std\": null,\n        \"min\": 1.6042842304826899,\n        \"max\": 1.6042842304826899,\n        \"num_unique_values\": 1,\n        \"samples\": [\n          1.6042842304826899\n        ],\n        \"semantic_type\": \"\",\n        \"description\": \"\"\n      }\n    },\n    {\n      \"column\": \"petal_width\",\n      \"properties\": {\n        \"dtype\": \"number\",\n        \"std\": null,\n        \"min\": 0.6893856121264546,\n        \"max\": 0.6893856121264546,\n        \"num_unique_values\": 1,\n        \"samples\": [\n          0.6893856121264546\n        ],\n        \"semantic_type\": \"\",\n        \"description\": \"\"\n      }\n    },\n    {\n      \"column\": \"variety\",\n      \"properties\": {\n        \"dtype\": \"string\",\n        \"num_unique_values\": 1,\n        \"samples\": [\n          \"Setosa\"\n        ],\n        \"semantic_type\": \"\",\n        \"description\": \"\"\n      }\n    }\n  ]\n}"
            }
          },
          "metadata": {},
          "execution_count": 11
        }
      ],
      "source": [
        "\n",
        "if BACKFILL == True:\n",
        "    iris_df = pd.read_csv(\"https://repo.hops.works/master/hopsworks-tutorials/data/iris.csv\")\n",
        "else:\n",
        "    iris_df = get_random_iris_flower()\n",
        "\n",
        "iris_df.head()"
      ]
    },
    {
      "cell_type": "markdown",
      "metadata": {
        "id": "4jHNTzdcwkwx"
      },
      "source": [
        "## Authenticate with Hopsworks using your API Key\n",
        "\n",
        "Hopsworks will prompt you to paste in your API key and provide you with a link to find your API key if you have not stored it securely already."
      ]
    },
    {
      "cell_type": "code",
      "execution_count": 7,
      "metadata": {
        "colab": {
          "base_uri": "https://localhost:8080/"
        },
        "id": "gt-vLDHwwkwy",
        "outputId": "6f05f512-3f24-4f38-ccc3-1107cd476d3e"
      },
      "outputs": [
        {
          "output_type": "stream",
          "name": "stdout",
          "text": [
            "\n",
            "Multiple projects found. \n",
            "\n",
            "\t (1) naziherr\n",
            "\t (2) lab2\n",
            "\t (3) lab01\n",
            "\n",
            "Enter number corresponding to the project to use: 3\n",
            "\n",
            "Logged in to project, explore it here https://c.app.hopsworks.ai:443/p/1193116\n"
          ]
        }
      ],
      "source": [
        "project = hopsworks.login()\n",
        "fs = project.get_feature_store()"
      ]
    },
    {
      "cell_type": "markdown",
      "metadata": {
        "id": "sT221Ra_wkw0"
      },
      "source": [
        "## Create and write to a feature group - primary keys\n",
        "\n",
        "To prevent duplicate entries, Hopsworks requires that each DataFame has a *primary_key*.\n",
        "A *primary_key* is one or more columns that uniquely identify the row. Here, we assume\n",
        "that each Iris flower has a unique combination of (\"sepal_length\",\"sepal_width\",\"petal_length\",\"petal_width\")\n",
        "feature values. If you randomly generate a sample that already exists in the feature group, the insert operation will fail.\n",
        "\n",
        "The *feature group* will create its online schema using the schema of the Pandas DataFame."
      ]
    },
    {
      "cell_type": "code",
      "source": [
        "!pip install confluent_kafka\n"
      ],
      "metadata": {
        "colab": {
          "base_uri": "https://localhost:8080/"
        },
        "id": "0DrPeiTcRZXj",
        "outputId": "971f305c-c385-44ef-c313-c58c2f5ed4ae"
      },
      "execution_count": 35,
      "outputs": [
        {
          "output_type": "stream",
          "name": "stdout",
          "text": [
            "Collecting confluent_kafka\n",
            "  Downloading confluent_kafka-2.8.0-cp311-cp311-manylinux_2_28_x86_64.whl.metadata (21 kB)\n",
            "Downloading confluent_kafka-2.8.0-cp311-cp311-manylinux_2_28_x86_64.whl (3.8 MB)\n",
            "\u001b[2K   \u001b[90m━━━━━━━━━━━━━━━━━━━━━━━━━━━━━━━━━━━━━━━━\u001b[0m \u001b[32m3.8/3.8 MB\u001b[0m \u001b[31m35.5 MB/s\u001b[0m eta \u001b[36m0:00:00\u001b[0m\n",
            "\u001b[?25hInstalling collected packages: confluent_kafka\n",
            "Successfully installed confluent_kafka-2.8.0\n"
          ]
        }
      ]
    },
    {
      "cell_type": "code",
      "execution_count": 12,
      "metadata": {
        "colab": {
          "base_uri": "https://localhost:8080/"
        },
        "id": "iJgaX191wkw1",
        "outputId": "9120232d-dfe2-41c2-c387-31571e599867"
      },
      "outputs": [
        {
          "output_type": "stream",
          "name": "stderr",
          "text": [
            "Uploading Dataframe: 100.00% |██████████| Rows 1/1 | Elapsed Time: 00:00 | Remaining Time: 00:00\n"
          ]
        },
        {
          "output_type": "stream",
          "name": "stdout",
          "text": [
            "Launching job: iris1_1_offline_fg_materialization\n",
            "Job started successfully, you can follow the progress at \n",
            "https://c.app.hopsworks.ai:443/p/1193116/jobs/named/iris1_1_offline_fg_materialization/executions\n"
          ]
        },
        {
          "output_type": "execute_result",
          "data": {
            "text/plain": [
              "(Job('iris1_1_offline_fg_materialization', 'SPARK'), None)"
            ]
          },
          "metadata": {},
          "execution_count": 12
        }
      ],
      "source": [
        "iris_fg = fs.get_or_create_feature_group(name=\"iris1\",\n",
        "                                  version=1,\n",
        "                                  primary_key=[\"sepal_length\",\"sepal_width\",\"petal_length\",\"petal_width\"],\n",
        "                                  description=\"Iris flower dataset\",\n",
        "                                  online_enabled=True)\n",
        "\n",
        "iris_fg.insert(iris_df, write_options={\"online\": True})"
      ]
    }
  ],
  "metadata": {
    "colab": {
      "provenance": []
    },
    "kernelspec": {
      "display_name": "Python 3 (ipykernel)",
      "language": "python",
      "name": "python3"
    },
    "language_info": {
      "codemirror_mode": {
        "name": "ipython",
        "version": 3
      },
      "file_extension": ".py",
      "mimetype": "text/x-python",
      "name": "python",
      "nbconvert_exporter": "python",
      "pygments_lexer": "ipython3",
      "version": "3.10.9"
    }
  },
  "nbformat": 4,
  "nbformat_minor": 0
}